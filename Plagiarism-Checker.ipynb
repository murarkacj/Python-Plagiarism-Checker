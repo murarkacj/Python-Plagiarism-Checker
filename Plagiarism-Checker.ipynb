{
 "cells": [
  {
   "cell_type": "markdown",
   "id": "1079a1d4",
   "metadata": {},
   "source": [
    "## Shri Ramdeobaba College of Engineering and Management , Nagpur\n",
    "### Python Group Project : Group 7\n",
    "### Program to Check Plagirism\n",
    "#### Group members \n",
    "##### E-29 , Amaan Khan\n",
    "##### E-34 , Bipul Biswas\n",
    "##### E-35 , Chaitanya Murarka"
   ]
  },
  {
   "cell_type": "code",
   "execution_count": 1,
   "id": "9d3cdc76",
   "metadata": {},
   "outputs": [],
   "source": [
    "from googlesearch import search\n",
    "import requests\n",
    "from bs4 import BeautifulSoup\n",
    "import urllib.request, urllib.error, urllib.parse\n",
    "from urllib import request\n"
   ]
  },
  {
   "cell_type": "code",
   "execution_count": 2,
   "id": "bb7ad93a",
   "metadata": {},
   "outputs": [
    {
     "name": "stdout",
     "output_type": "stream",
     "text": [
      "Enter the string you want to check : Git is a local repo\n",
      "Matching Website\n",
      "https://stackoverflow.com/questions/13072111/gits-local-repository-and-remote-repository-confusing-concepts\n",
      "Matching Website\n",
      "https://stackoverflow.com/questions/32406720/how-can-i-use-git-locally\n"
     ]
    }
   ],
   "source": [
    "# Getting URl to Process\n",
    "# Refered : https://docs.google.com/document/d/e/2PACX-1vSJLCQ0NCFsy5di5oR5deO8L_hnWLpcwN0IlDrFfqMLwawMrn-wH5KUVaKHemW80b_UGudFJyK6mXw9/pub\n",
    "query = input(\"Enter the string you want to check : \")\n",
    "my_results_list = []\n",
    "for i in search(query,        # The query you want to run\n",
    "                tld = 'com',  # The top level domain\n",
    "                lang = 'en',  # The language\n",
    "                num = 1,      # Number of results per page\n",
    "                start = 0,    # First result to retrieve\n",
    "                stop = 2,     # Last result to retrieve\n",
    "                #pause = 2.0,  Lapse between HTTP requests\n",
    "               ):\n",
    "    my_results_list.append(i)\n",
    "    print(\"Matching Website\",)\n",
    "    print(i)\n"
   ]
  },
  {
   "cell_type": "code",
   "execution_count": 3,
   "id": "b5f1f7d1",
   "metadata": {},
   "outputs": [],
   "source": [
    "result1=my_results_list[0]\n",
    "result2=my_results_list[1]"
   ]
  },
  {
   "cell_type": "code",
   "execution_count": 4,
   "id": "b313e1fc",
   "metadata": {},
   "outputs": [],
   "source": [
    "# Code to extract html\n",
    "url1 = result1\n",
    "file1 = urllib.request.urlopen(url1)\n",
    "for line in file1:\n",
    "    webpage = line.decode(\"utf-8\")\n",
    "    #print(webpage)"
   ]
  },
  {
   "cell_type": "code",
   "execution_count": 5,
   "id": "4f4140d3",
   "metadata": {},
   "outputs": [],
   "source": [
    "url2 = result2\n",
    "\n",
    "file2 = urllib.request.urlopen(url2)\n",
    "\n",
    "for line in file2:\n",
    "    webpage2 = line.decode(\"utf-8\")\n",
    "    #print(webpage2)"
   ]
  },
  {
   "cell_type": "code",
   "execution_count": 6,
   "id": "99d5e53e",
   "metadata": {},
   "outputs": [],
   "source": [
    "# Converting to text\n",
    "\n",
    "# Initializing variable\n",
    "\n",
    "txt1 = BeautifulSoup(request.urlopen(result1).read())\n",
    "txt2 = BeautifulSoup(request.urlopen(result2).read())\n",
    "\n",
    "\n",
    "# Calculating result\n",
    "res1 = txt1.get_text()\n",
    "res2 = txt2.get_text()\n",
    "\n",
    "\n",
    "# Printing the result\n",
    "\n",
    "#print(\"Text Format of Result 1\",res1)\n",
    "#print(\"Text Format of Result 2\",res2)\n",
    "\n"
   ]
  },
  {
   "cell_type": "code",
   "execution_count": 7,
   "id": "0efa529e",
   "metadata": {},
   "outputs": [
    {
     "name": "stdout",
     "output_type": "stream",
     "text": [
      "Plagiarism not found in First Website \n",
      "Plagiarism not found in Second Website\n"
     ]
    }
   ],
   "source": [
    "# Plagirsim check between text and Sub-String\n",
    "\n",
    "def check1(res1, sub_str):\n",
    "    if (res1.find(sub_str) == -1):\n",
    "        print(\"Plagiarism not found in First Website \")\n",
    "\n",
    "    else:\n",
    "        print(\"Plagiarism found in First Website \",result1)\n",
    "def check2(res2, sub_str):\n",
    "    if (res2.find(sub_str) == -1):\n",
    "        print(\"Plagiarism not found in Second Website\")\n",
    "\n",
    "    else:\n",
    "        print(\"Plagiarism found in Second Website \",result2)\n",
    "# driver code\n",
    "\n",
    "sub_str= query\n",
    "check1(res1, sub_str)\n",
    "check2(res2, sub_str)"
   ]
  },
  {
   "cell_type": "code",
   "execution_count": null,
   "id": "c24bace2",
   "metadata": {},
   "outputs": [],
   "source": []
  }
 ],
 "metadata": {
  "kernelspec": {
   "display_name": "Python 3 (ipykernel)",
   "language": "python",
   "name": "python3"
  },
  "language_info": {
   "codemirror_mode": {
    "name": "ipython",
    "version": 3
   },
   "file_extension": ".py",
   "mimetype": "text/x-python",
   "name": "python",
   "nbconvert_exporter": "python",
   "pygments_lexer": "ipython3",
   "version": "3.9.7"
  }
 },
 "nbformat": 4,
 "nbformat_minor": 5
}
